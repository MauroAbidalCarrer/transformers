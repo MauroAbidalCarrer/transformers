{
 "cells": [
  {
   "cell_type": "code",
   "execution_count": null,
   "id": "5826cd08",
   "metadata": {},
   "outputs": [],
   "source": [
    "import torch\n",
    "from torch import nn\n",
    "from torch.nn import functional"
   ]
  },
  {
   "cell_type": "code",
   "execution_count": null,
   "id": "52798f9a",
   "metadata": {},
   "outputs": [],
   "source": [
    "TEST_SPLIT_RATIO = 0.1"
   ]
  },
  {
   "cell_type": "code",
   "execution_count": 2,
   "id": "0f5ebc5f",
   "metadata": {},
   "outputs": [
    {
     "name": "stdout",
     "output_type": "stream",
     "text": [
      "--2025-09-17 15:22:11--  https://raw.githubusercontent.com/karpathy/char-rnn/master/data/tinyshakespeare/input.txt\n",
      "Resolving raw.githubusercontent.com (raw.githubusercontent.com)... 185.199.111.133, 185.199.110.133, 185.199.109.133, ...\n",
      "Connecting to raw.githubusercontent.com (raw.githubusercontent.com)|185.199.111.133|:443... connected.\n",
      "HTTP request sent, awaiting response... 200 OK\n",
      "Length: 1115394 (1.1M) [text/plain]\n",
      "Saving to: ‘input.txt’\n",
      "\n",
      "input.txt           100%[===================>]   1.06M  --.-KB/s    in 0.01s   \n",
      "\n",
      "2025-09-17 15:22:11 (96.2 MB/s) - ‘input.txt’ saved [1115394/1115394]\n",
      "\n"
     ]
    }
   ],
   "source": [
    "! wget https://raw.githubusercontent.com/karpathy/char-rnn/master/data/tinyshakespeare/input.txt\n",
    "\n",
    "with open(\"input.txt\", 'r', encoding='utf-8') as f:\n",
    "    shakespeare_txt = f.read()"
   ]
  },
  {
   "cell_type": "code",
   "execution_count": 24,
   "id": "62f7accc",
   "metadata": {},
   "outputs": [],
   "source": [
    "vocab = sorted(list(set(shakespeare_txt)))\n",
    "vocab_len = len(vocab)\n",
    "str_to_char_idx = { ch:i for i,ch in enumerate(vocab) }\n",
    "token_idx_to_str = dict(enumerate(vocab))\n",
    "encode = lambda string: [str_to_char_idx[char] for char in string]\n",
    "decode = lambda tokens_idx: \"\".join([token_idx_to_str[token_idx] for token_idx in tokens_idx])"
   ]
  },
  {
   "cell_type": "code",
   "execution_count": null,
   "id": "6b219a5a",
   "metadata": {},
   "outputs": [
    {
     "data": {
      "text/plain": [
       "'First Citizen:\\n'"
      ]
     },
     "execution_count": 25,
     "metadata": {},
     "output_type": "execute_result"
    }
   ],
   "source": [
    "dataset = torch.Tensor(encode(shakespeare_txt), dtype=\"float\")\n",
    "train = dataset[:TEST_SPLIT_RATIO]\n",
    "test = dataset[TEST_SPLIT_RATIO:]"
   ]
  }
 ],
 "metadata": {
  "kernelspec": {
   "display_name": "Python 3",
   "language": "python",
   "name": "python3"
  },
  "language_info": {
   "codemirror_mode": {
    "name": "ipython",
    "version": 3
   },
   "file_extension": ".py",
   "mimetype": "text/x-python",
   "name": "python",
   "nbconvert_exporter": "python",
   "pygments_lexer": "ipython3",
   "version": "3.10.18"
  }
 },
 "nbformat": 4,
 "nbformat_minor": 5
}
